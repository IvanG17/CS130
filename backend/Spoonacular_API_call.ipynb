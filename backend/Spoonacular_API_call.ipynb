{
 "cells": [
  {
   "cell_type": "code",
   "execution_count": 1,
   "metadata": {
    "id": "75LDuWYZ78vG"
   },
   "outputs": [],
   "source": [
    "import requests\n",
    "import os"
   ]
  },
  {
   "cell_type": "code",
   "execution_count": 2,
   "metadata": {},
   "outputs": [],
   "source": [
    "from dotenv import load_dotenv, find_dotenv"
   ]
  },
  {
   "cell_type": "code",
   "execution_count": 3,
   "metadata": {
    "id": "kMerWn3oN1uu"
   },
   "outputs": [],
   "source": [
    "#the format: https://api.spoonacular.com/food/products/search?query=yogurt&apiKey=API-KEY"
   ]
  },
  {
   "cell_type": "code",
   "execution_count": 4,
   "metadata": {},
   "outputs": [
    {
     "data": {
      "text/plain": [
       "True"
      ]
     },
     "execution_count": 4,
     "metadata": {},
     "output_type": "execute_result"
    }
   ],
   "source": [
    "file_path = \"/Users/preethamvignesh/Desktop/Savor/\"\n",
    "load_dotenv(file_path + \".env\")"
   ]
  },
  {
   "cell_type": "code",
   "execution_count": 5,
   "metadata": {
    "id": "v_RECj8gOy45"
   },
   "outputs": [],
   "source": [
    "food_name = \"pepperoni pizza\"\n",
    "api_key = os.getenv(\"SPOONACULAR_API_KEY\")"
   ]
  },
  {
   "cell_type": "code",
   "execution_count": 6,
   "metadata": {
    "id": "SYZRQYtzBlDq"
   },
   "outputs": [],
   "source": [
    "response = requests.get(\"https://api.spoonacular.com/recipes/search?query=\"+food_name+\"&apiKey=\"+api_key)"
   ]
  },
  {
   "cell_type": "code",
   "execution_count": 7,
   "metadata": {
    "colab": {
     "base_uri": "https://localhost:8080/"
    },
    "id": "Mz1GDuswClYj",
    "outputId": "c7b18022-285f-4e0b-b81e-c39fe48337b0"
   },
   "outputs": [
    {
     "name": "stdout",
     "output_type": "stream",
     "text": [
      "Here is the response:  {'results': [{'readyInMinutes': 45, 'sourceUrl': 'https://www.foodista.com/recipe/2R5MSMN3/mini-eggplant-pizza', 'image': 'Mini-eggplant-pizza-651956.jpg', 'servings': 3, 'id': 651956, 'title': 'Mini eggplant pizza'}], 'baseUri': 'https://spoonacular.com/recipeImages/', 'offset': 0, 'number': 10, 'totalResults': 1, 'processingTimeMs': 64, 'expires': 1710183206370, 'isStale': False}\n"
     ]
    }
   ],
   "source": [
    "print(\"Here is the response: \",response.json())"
   ]
  },
  {
   "cell_type": "code",
   "execution_count": 8,
   "metadata": {
    "id": "0aWAsAOuSZDK"
   },
   "outputs": [],
   "source": [
    "list_recipes = response.json()"
   ]
  },
  {
   "cell_type": "code",
   "execution_count": 9,
   "metadata": {
    "id": "Eqnokoc8SpJZ"
   },
   "outputs": [],
   "source": [
    "recipe_info = list_recipes['results'][0]"
   ]
  },
  {
   "cell_type": "code",
   "execution_count": 10,
   "metadata": {
    "colab": {
     "base_uri": "https://localhost:8080/"
    },
    "id": "wgP5hq7QS88g",
    "outputId": "27419dd7-acca-404a-da3f-f06629200c1d"
   },
   "outputs": [
    {
     "name": "stdout",
     "output_type": "stream",
     "text": [
      "https://www.foodista.com/recipe/2R5MSMN3/mini-eggplant-pizza\n"
     ]
    }
   ],
   "source": [
    "recipe_url = recipe_info['sourceUrl']\n",
    "print(recipe_url)"
   ]
  },
  {
   "cell_type": "code",
   "execution_count": 11,
   "metadata": {
    "id": "234ihWp6amYB"
   },
   "outputs": [],
   "source": [
    "entire_recipe = requests.get(\"https://api.spoonacular.com/recipes/extract?url=\"+recipe_url+\"&apiKey=\"+api_key)"
   ]
  },
  {
   "cell_type": "code",
   "execution_count": 12,
   "metadata": {
    "colab": {
     "base_uri": "https://localhost:8080/"
    },
    "id": "7bH4QHvKhrEb",
    "outputId": "314e03f1-5f75-4361-c535-fbb129bb9440"
   },
   "outputs": [
    {
     "name": "stdout",
     "output_type": "stream",
     "text": [
      "Status:  <Response [200]>\n"
     ]
    }
   ],
   "source": [
    "print(\"Status: \", entire_recipe)"
   ]
  },
  {
   "cell_type": "code",
   "execution_count": 13,
   "metadata": {
    "colab": {
     "base_uri": "https://localhost:8080/"
    },
    "id": "Yk3lSh0-iSO0",
    "outputId": "7a0e47f1-9549-4075-ca5a-012628259c63"
   },
   "outputs": [
    {
     "name": "stdout",
     "output_type": "stream",
     "text": [
      "{'vegetarian': False, 'vegan': False, 'glutenFree': True, 'dairyFree': False, 'veryHealthy': False, 'cheap': False, 'veryPopular': False, 'sustainable': False, 'lowFodmap': False, 'weightWatcherSmartPoints': 11, 'gaps': 'no', 'preparationMinutes': -1, 'cookingMinutes': -1, 'aggregateLikes': 1, 'healthScore': 2, 'creditsText': 'foodista.com', 'sourceName': 'foodista.com', 'pricePerServing': 80.85, 'extendedIngredients': [{'id': 4053, 'aisle': 'Oil, Vinegar, Salad Dressing', 'image': 'olive-oil.jpg', 'consistency': 'SOLID', 'name': 'olive oil', 'nameClean': 'olive oil', 'original': 'Olive oil', 'originalName': 'Olive oil', 'amount': 3.0, 'unit': 'servings', 'meta': [], 'measures': {'us': {'amount': 3.0, 'unitShort': 'servings', 'unitLong': 'servings'}, 'metric': {'amount': 3.0, 'unitShort': 'servings', 'unitLong': 'servings'}}}, {'id': 1012047, 'aisle': 'Spices and Seasonings', 'image': 'salt.jpg', 'consistency': 'SOLID', 'name': 'sea salt', 'nameClean': 'coarse sea salt', 'original': 'Sea salt', 'originalName': 'Sea salt', 'amount': 3.0, 'unit': 'servings', 'meta': [], 'measures': {'us': {'amount': 3.0, 'unitShort': 'servings', 'unitLong': 'servings'}, 'metric': {'amount': 3.0, 'unitShort': 'servings', 'unitLong': 'servings'}}}, {'id': 11209, 'aisle': 'Produce', 'image': 'eggplant.png', 'consistency': 'SOLID', 'name': 'eggplant', 'nameClean': 'eggplant', 'original': '3 1/4- to 1/3-inch slices of eggplant, drained on a paper towel for 30 to 45 minutes', 'originalName': 'eggplant, drained on a paper towel for 30 to 45 minutes', 'amount': 3.25, 'unit': 'inch', 'meta': ['drained', 'for 30 to 45 minutes'], 'measures': {'us': {'amount': 3.25, 'unitShort': 'inch', 'unitLong': 'inches'}, 'metric': {'amount': 3.25, 'unitShort': 'inch', 'unitLong': 'inches'}}}, {'id': 11549, 'aisle': 'Canned and Jarred', 'image': 'tomato-sauce-or-pasta-sauce.jpg', 'consistency': 'SOLID', 'name': 'tomato sauce', 'nameClean': 'canned tomato sauce', 'original': '1/3 cup tomato sauce', 'originalName': 'tomato sauce', 'amount': 0.33333334, 'unit': 'cup', 'meta': [], 'measures': {'us': {'amount': 0.33333334, 'unitShort': 'cups', 'unitLong': 'cups'}, 'metric': {'amount': 81.667, 'unitShort': 'ml', 'unitLong': 'milliliters'}}}, {'id': 1041009, 'aisle': 'Cheese', 'image': 'cheddar-cheese.png', 'consistency': 'SOLID', 'name': 'cheese', 'nameClean': 'cheese', 'original': '1 cup grated cheese', 'originalName': 'grated cheese', 'amount': 1.0, 'unit': 'cup', 'meta': ['grated'], 'measures': {'us': {'amount': 1.0, 'unitShort': 'cup', 'unitLong': 'cup'}, 'metric': {'amount': 113.0, 'unitShort': 'g', 'unitLong': 'grams'}}}, {'id': 7057, 'aisle': 'Meat', 'image': 'pepperoni.png', 'consistency': 'SOLID', 'name': 'pepperoni', 'nameClean': 'pepperoni', 'original': 'About 12 slices of pepperoni', 'originalName': 'About of pepperoni', 'amount': 12.0, 'unit': 'slices', 'meta': [], 'measures': {'us': {'amount': 12.0, 'unitShort': 'slice', 'unitLong': 'slices'}, 'metric': {'amount': 12.0, 'unitShort': 'slice', 'unitLong': 'slices'}}}], 'id': 651956, 'title': 'Mini eggplant pizza', 'readyInMinutes': 45, 'servings': 3, 'sourceUrl': 'https://www.foodista.com/recipe/2R5MSMN3/mini-eggplant-pizza', 'image': 'https://spoonacular.com/recipeImages/651956-556x370.jpg', 'imageType': 'jpg', 'summary': 'If you want to add more <b>Mediterranean</b> recipes to your repertoire, Mini eggplant pizza might be a recipe you should try. For <b>81 cents per serving</b>, you get a hor d\\'oeuvre that serves 3. One serving contains <b>325 calories</b>, <b>11g of protein</b>, and <b>31g of fat</b>. From preparation to the plate, this recipe takes around <b>45 minutes</b>. It is a good option if you\\'re following a <b>gluten free and primal</b> diet. Head to the store and pick up olive oil, sea salt, pepperoni, and a few other things to make it today. It is brought to you by Foodista. 1 person were glad they tried this recipe. Overall, this recipe earns a <b>not so great spoonacular score of 23%</b>. Try <a href=\"https://spoonacular.com/recipes/mini-eggplant-parmesan-331709\">Mini Eggplant Parmesan</a>, <a href=\"https://spoonacular.com/recipes/mini-eggplant-crust-pizzas-103649\">Mini Eggplant Crust Pizzas</a>, and <a href=\"https://spoonacular.com/recipes/mini-eggplant-parm-roasted-cherry-tomato-basil-pesto-751511\">Mini Eggplant Parm, Roasted Cherry Tomato, Basil Pesto</a> for similar recipes.', 'cuisines': ['Mediterranean', 'Italian', 'European'], 'dishTypes': ['antipasti', 'starter', 'snack', 'appetizer', 'antipasto', \"hor d'oeuvre\"], 'diets': ['gluten free', 'primal'], 'occasions': [], 'instructions': 'Put enough olive oil in the bottom of a pie pan to lightly coat the bottom of the pan. Sprinkle with sea salt. Put the pan in the oven and preheat it to 350 degrees F.\\nOnce the pan is preheated, add the eggplant slices. Cook for 5 minutes. Take the pan out of the oven and turn over the eggplant slices. Spoon tomato sauce onto each slice. Top with cheese and pepperoni. Put back in oven and cook for another 5 minutes, or until the cheese is melted.\\nRemove from the oven and serve.', 'analyzedInstructions': [{'name': '', 'steps': [{'number': 1, 'step': 'Put enough olive oil in the bottom of a pie pan to lightly coat the bottom of the pan.', 'ingredients': [{'id': 4053, 'name': 'olive oil', 'localizedName': 'olive oil', 'image': 'olive-oil.jpg'}], 'equipment': [{'id': 405915, 'name': 'pie form', 'localizedName': 'pie form', 'image': 'pie-pan.png'}, {'id': 404645, 'name': 'frying pan', 'localizedName': 'frying pan', 'image': 'pan.png'}]}, {'number': 2, 'step': 'Sprinkle with sea salt.', 'ingredients': [{'id': 1012047, 'name': 'sea salt', 'localizedName': 'sea salt', 'image': 'salt.jpg'}], 'equipment': []}, {'number': 3, 'step': 'Put the pan in the oven and preheat it to 350 degrees F.', 'ingredients': [], 'equipment': [{'id': 404784, 'name': 'oven', 'localizedName': 'oven', 'image': 'oven.jpg', 'temperature': {'number': 350.0, 'unit': 'Fahrenheit'}}, {'id': 404645, 'name': 'frying pan', 'localizedName': 'frying pan', 'image': 'pan.png'}]}, {'number': 4, 'step': 'Once the pan is preheated, add the eggplant slices. Cook for 5 minutes. Take the pan out of the oven and turn over the eggplant slices. Spoon tomato sauce onto each slice. Top with cheese and pepperoni. Put back in oven and cook for another 5 minutes, or until the cheese is melted.', 'ingredients': [{'id': 11549, 'name': 'tomato sauce', 'localizedName': 'tomato sauce', 'image': 'tomato-sauce-or-pasta-sauce.jpg'}, {'id': 7057, 'name': 'pepperoni', 'localizedName': 'pepperoni', 'image': 'pepperoni.png'}, {'id': 11209, 'name': 'eggplant', 'localizedName': 'eggplant', 'image': 'eggplant.png'}, {'id': 1041009, 'name': 'cheese', 'localizedName': 'cheese', 'image': 'cheddar-cheese.png'}], 'equipment': [{'id': 404784, 'name': 'oven', 'localizedName': 'oven', 'image': 'oven.jpg'}, {'id': 404645, 'name': 'frying pan', 'localizedName': 'frying pan', 'image': 'pan.png'}], 'length': {'number': 10, 'unit': 'minutes'}}, {'number': 5, 'step': 'Remove from the oven and serve.', 'ingredients': [], 'equipment': [{'id': 404784, 'name': 'oven', 'localizedName': 'oven', 'image': 'oven.jpg'}]}]}], 'originalId': None, 'spoonacularScore': 32.201812744140625, 'spoonacularSourceUrl': 'https://spoonacular.com/mini-eggplant-pizza-651956'}\n"
     ]
    }
   ],
   "source": [
    "all_info = entire_recipe.json()\n",
    "print(all_info)"
   ]
  },
  {
   "cell_type": "code",
   "execution_count": 25,
   "metadata": {
    "id": "9W5baNLXi3Fo"
   },
   "outputs": [
    {
     "name": "stdout",
     "output_type": "stream",
     "text": [
      "Put enough olive oil in the bottom of a pie pan to lightly coat the bottom of the pan. Sprinkle with sea salt. Put the pan in the oven and preheat it to 350 degrees F.\n",
      "Once the pan is preheated, add the eggplant slices. Cook for 5 minutes. Take the pan out of the oven and turn over the eggplant slices. Spoon tomato sauce onto each slice. Top with cheese and pepperoni. Put back in oven and cook for another 5 minutes, or until the cheese is melted.\n",
      "Remove from the oven and serve.\n"
     ]
    }
   ],
   "source": [
    "recipe_instructions = all_info['instructions']\n",
    "recipe_ingredients = all_info['extendedIngredients']\n",
    "print(recipe_instructions)\n"
   ]
  },
  {
   "cell_type": "code",
   "execution_count": 15,
   "metadata": {
    "colab": {
     "base_uri": "https://localhost:8080/"
    },
    "id": "C_WyYniTonRm",
    "outputId": "a9c77370-a6d2-4c15-e3f0-0884ccd72126"
   },
   "outputs": [
    {
     "name": "stdout",
     "output_type": "stream",
     "text": [
      "[{'id': 4053, 'aisle': 'Oil, Vinegar, Salad Dressing', 'image': 'olive-oil.jpg', 'consistency': 'SOLID', 'name': 'olive oil', 'nameClean': 'olive oil', 'original': 'Olive oil', 'originalName': 'Olive oil', 'amount': 3.0, 'unit': 'servings', 'meta': [], 'measures': {'us': {'amount': 3.0, 'unitShort': 'servings', 'unitLong': 'servings'}, 'metric': {'amount': 3.0, 'unitShort': 'servings', 'unitLong': 'servings'}}}, {'id': 1012047, 'aisle': 'Spices and Seasonings', 'image': 'salt.jpg', 'consistency': 'SOLID', 'name': 'sea salt', 'nameClean': 'coarse sea salt', 'original': 'Sea salt', 'originalName': 'Sea salt', 'amount': 3.0, 'unit': 'servings', 'meta': [], 'measures': {'us': {'amount': 3.0, 'unitShort': 'servings', 'unitLong': 'servings'}, 'metric': {'amount': 3.0, 'unitShort': 'servings', 'unitLong': 'servings'}}}, {'id': 11209, 'aisle': 'Produce', 'image': 'eggplant.png', 'consistency': 'SOLID', 'name': 'eggplant', 'nameClean': 'eggplant', 'original': '3 1/4- to 1/3-inch slices of eggplant, drained on a paper towel for 30 to 45 minutes', 'originalName': 'eggplant, drained on a paper towel for 30 to 45 minutes', 'amount': 3.25, 'unit': 'inch', 'meta': ['drained', 'for 30 to 45 minutes'], 'measures': {'us': {'amount': 3.25, 'unitShort': 'inch', 'unitLong': 'inches'}, 'metric': {'amount': 3.25, 'unitShort': 'inch', 'unitLong': 'inches'}}}, {'id': 11549, 'aisle': 'Canned and Jarred', 'image': 'tomato-sauce-or-pasta-sauce.jpg', 'consistency': 'SOLID', 'name': 'tomato sauce', 'nameClean': 'canned tomato sauce', 'original': '1/3 cup tomato sauce', 'originalName': 'tomato sauce', 'amount': 0.33333334, 'unit': 'cup', 'meta': [], 'measures': {'us': {'amount': 0.33333334, 'unitShort': 'cups', 'unitLong': 'cups'}, 'metric': {'amount': 81.667, 'unitShort': 'ml', 'unitLong': 'milliliters'}}}, {'id': 1041009, 'aisle': 'Cheese', 'image': 'cheddar-cheese.png', 'consistency': 'SOLID', 'name': 'cheese', 'nameClean': 'cheese', 'original': '1 cup grated cheese', 'originalName': 'grated cheese', 'amount': 1.0, 'unit': 'cup', 'meta': ['grated'], 'measures': {'us': {'amount': 1.0, 'unitShort': 'cup', 'unitLong': 'cup'}, 'metric': {'amount': 113.0, 'unitShort': 'g', 'unitLong': 'grams'}}}, {'id': 7057, 'aisle': 'Meat', 'image': 'pepperoni.png', 'consistency': 'SOLID', 'name': 'pepperoni', 'nameClean': 'pepperoni', 'original': 'About 12 slices of pepperoni', 'originalName': 'About of pepperoni', 'amount': 12.0, 'unit': 'slices', 'meta': [], 'measures': {'us': {'amount': 12.0, 'unitShort': 'slice', 'unitLong': 'slices'}, 'metric': {'amount': 12.0, 'unitShort': 'slice', 'unitLong': 'slices'}}}]\n"
     ]
    }
   ],
   "source": [
    "print(recipe_ingredients)"
   ]
  },
  {
   "cell_type": "code",
   "execution_count": 29,
   "metadata": {
    "colab": {
     "base_uri": "https://localhost:8080/"
    },
    "id": "ez-WWJgOkM9e",
    "outputId": "543e51c8-04da-46da-afde-81573139f9ab"
   },
   "outputs": [
    {
     "name": "stdout",
     "output_type": "stream",
     "text": [
      "Olive oil. Sea salt. 3 1/4- to 1/3-inch slices of eggplant, drained on a paper towel for 30 to 45 minutes. 1/3 cup tomato sauce. 1 cup grated cheese. About 12 slices of pepperoni\n"
     ]
    }
   ],
   "source": [
    "ingredient_list = \"\"\n",
    "for idx in range(len(recipe_ingredients)):\n",
    "    ingredient = recipe_ingredients[idx]\n",
    "    #print(ingredient['original'])\n",
    "    actual_ingredient = ingredient['original']\n",
    "    if idx != 0:\n",
    "        ingredient_list = ingredient_list + \". \" + actual_ingredient \n",
    "    else:\n",
    "        ingredient_list = actual_ingredient\n",
    "    \n",
    "\n",
    "#print(recipe_ingredients[0]['original'])\n",
    "print(ingredient_list)"
   ]
  },
  {
   "cell_type": "code",
   "execution_count": 17,
   "metadata": {
    "id": "d64ktCAelFDb"
   },
   "outputs": [],
   "source": [
    "#cause there seem to be repeats in the ingredients, removing repeats:\n",
    "#some preprocessing as well\n",
    "ingredient_list = []\n",
    "i = 0\n",
    "while i < len(recipe_ingredients):\n",
    "  ingredient_desc = recipe_ingredients[i]['original']\n",
    "  complex_condition = ingredient_desc[0] == 'A' and ingredient_desc[1] == ' '\n",
    "  if not ingredient_desc[0].isnumeric() and (not complex_condition):\n",
    "    ingredient_desc = \"A \"+ ingredient_desc.lower()\n",
    "\n",
    "  if (not ingredient_list) or (ingredient_desc.lower() != ingredient_list[-1]):\n",
    "    if ingredient_desc[0].isnumeric():\n",
    "      ingredient_list.append(ingredient_desc.lower())\n",
    "    else:\n",
    "      ingredient_list.append(ingredient_desc)\n",
    "\n",
    "\n",
    "  i += 1\n",
    "\n"
   ]
  },
  {
   "cell_type": "code",
   "execution_count": 18,
   "metadata": {
    "colab": {
     "base_uri": "https://localhost:8080/"
    },
    "id": "ocINPczasaSf",
    "outputId": "a94ef582-420d-4292-a545-78beaf589955"
   },
   "outputs": [
    {
     "name": "stdout",
     "output_type": "stream",
     "text": [
      " enough olive oil in the bottom of a pie pan to lightly coat the bottom of the pan. Sprinkle with sea salt. Put the pan in the oven and preheat it to 350 degrees F.\n",
      "Once the pan is preheated, add the eggplant slices. Cook for 5 minutes. Take the pan out of the oven and turn over the eggplant slices. Spoon tomato sauce onto each slice. Top with cheese and pepperoni. Put back in oven and cook for another 5 minutes, or until the cheese is melted.\n",
      "Remove from the oven and se\n"
     ]
    }
   ],
   "source": [
    "#formatting the instructions in recipe_instructions\n",
    "recipe_instructions = (recipe_instructions[3:-4])\n",
    "print(recipe_instructions)\n"
   ]
  },
  {
   "cell_type": "code",
   "execution_count": 19,
   "metadata": {
    "id": "c8mqP4Jhve2Z"
   },
   "outputs": [],
   "source": [
    "bound = 0\n",
    "recipe_inst_list = []\n",
    "while i < len(recipe_instructions):\n",
    "  if recipe_instructions[i] == '.':\n",
    "    if recipe_instructions and i + 1 < len(recipe_instructions):\n",
    "      if not (recipe_instructions[i-1].isnumeric() and recipe_instructions[i+1].isnumeric()):\n",
    "        recipe_inst_list.append(recipe_instructions[bound: i+1])\n",
    "        bound = i + 1\n",
    "  i += 1\n",
    "if bound < len(recipe_instructions):\n",
    "  recipe_inst_list.append(recipe_instructions[bound:]+'.')\n",
    "\n",
    "\n"
   ]
  },
  {
   "cell_type": "code",
   "execution_count": 20,
   "metadata": {
    "colab": {
     "base_uri": "https://localhost:8080/"
    },
    "id": "httHhlZt4T4r",
    "outputId": "b3d4df99-a8a9-4cf4-9e9b-3a4a1ff2fead"
   },
   "outputs": [
    {
     "name": "stdout",
     "output_type": "stream",
     "text": [
      "[' enough olive oil in the bottom of a pie pan to lightly coat the bottom of the pan.', ' Sprinkle with sea salt.', ' Put the pan in the oven and preheat it to 350 degrees F.', '\\nOnce the pan is preheated, add the eggplant slices.', ' Cook for 5 minutes.', ' Take the pan out of the oven and turn over the eggplant slices.', ' Spoon tomato sauce onto each slice.', ' Top with cheese and pepperoni.', ' Put back in oven and cook for another 5 minutes, or until the cheese is melted.', '\\nRemove from the oven and se.']\n"
     ]
    }
   ],
   "source": [
    "print(recipe_inst_list)"
   ]
  },
  {
   "cell_type": "code",
   "execution_count": 21,
   "metadata": {
    "colab": {
     "base_uri": "https://localhost:8080/"
    },
    "id": "6D5amW8N0Yry",
    "outputId": "c03250cd-ce60-468e-b0ec-cc9789873e83"
   },
   "outputs": [
    {
     "name": "stdout",
     "output_type": "stream",
     "text": [
      "<class 'str'>\n"
     ]
    }
   ],
   "source": [
    "i = 0\n",
    "print(type(recipe_inst_list[0]))\n",
    "while i < len(recipe_inst_list):\n",
    "  recipe_inst_list[i] = (recipe_inst_list[i].lstrip().capitalize())[:-1]\n",
    "  i += 1\n"
   ]
  },
  {
   "cell_type": "code",
   "execution_count": 22,
   "metadata": {
    "colab": {
     "base_uri": "https://localhost:8080/"
    },
    "id": "31deCrvL3INo",
    "outputId": "d25b7abe-699a-45c8-a323-99670a07ac33"
   },
   "outputs": [
    {
     "name": "stdout",
     "output_type": "stream",
     "text": [
      "['Enough olive oil in the bottom of a pie pan to lightly coat the bottom of the pan', 'Sprinkle with sea salt', 'Put the pan in the oven and preheat it to 350 degrees f', 'Once the pan is preheated, add the eggplant slices', 'Cook for 5 minutes', 'Take the pan out of the oven and turn over the eggplant slices', 'Spoon tomato sauce onto each slice', 'Top with cheese and pepperoni', 'Put back in oven and cook for another 5 minutes, or until the cheese is melted', 'Remove from the oven and se']\n"
     ]
    }
   ],
   "source": [
    "print(recipe_inst_list)"
   ]
  },
  {
   "cell_type": "code",
   "execution_count": 23,
   "metadata": {
    "colab": {
     "base_uri": "https://localhost:8080/"
    },
    "id": "-vdLGjfFrYqR",
    "outputId": "16893c72-d88a-4d57-dd9d-2b3ffa6d3dec"
   },
   "outputs": [
    {
     "name": "stdout",
     "output_type": "stream",
     "text": [
      "Here are the ingredients: \n",
      "A olive oil\n",
      "A sea salt\n",
      "3 1/4- to 1/3-inch slices of eggplant, drained on a paper towel for 30 to 45 minutes\n",
      "1/3 cup tomato sauce\n",
      "1 cup grated cheese\n",
      "A about 12 slices of pepperoni\n",
      "\n",
      "\n",
      "Here is the recipe: \n",
      "1. Enough olive oil in the bottom of a pie pan to lightly coat the bottom of the pan\n",
      "2. Sprinkle with sea salt\n",
      "3. Put the pan in the oven and preheat it to 350 degrees f\n",
      "4. Once the pan is preheated, add the eggplant slices\n",
      "5. Cook for 5 minutes\n",
      "6. Take the pan out of the oven and turn over the eggplant slices\n",
      "7. Spoon tomato sauce onto each slice\n",
      "8. Top with cheese and pepperoni\n",
      "9. Put back in oven and cook for another 5 minutes, or until the cheese is melted\n",
      "10. Remove from the oven and se\n"
     ]
    }
   ],
   "source": [
    "#the official ingredients is stored in the ingredient_list\n",
    "#the official recipe (set of instructions is stored in recipe_inst_list)\n",
    "print(\"Here are the ingredients: \")\n",
    "for ingredient in ingredient_list:\n",
    "  print(ingredient)\n",
    "print(\"\\n\")\n",
    "print(\"Here is the recipe: \")\n",
    "for i in range(len(recipe_inst_list)):\n",
    "  print(str(i+1)+\". \"+recipe_inst_list[i])\n"
   ]
  },
  {
   "cell_type": "code",
   "execution_count": 24,
   "metadata": {
    "id": "A7TCeMjxc38H"
   },
   "outputs": [],
   "source": [
    "#some fixes are to the recipe (word)\n",
    "openai_api_key = os.getenv(\"OPENAI_API_KEY\")"
   ]
  },
  {
   "cell_type": "code",
   "execution_count": 30,
   "metadata": {},
   "outputs": [],
   "source": [
    "from openai import OpenAI\n",
    "client = OpenAI()\n",
    "completion = client.chat.completions.create(\n",
    "    model=\"gpt-3.5-turbo\",\n",
    "    messages=[\n",
    "        {\"role\":\"system\", \"content\": \"You are a writer that specializes in writing recipes and cookbooks.\"},\n",
    "        {\"role\":\"user\", \"content\": \"format these ingredients: \"+ ingredient_list + \" and format these recipe instructions: \"+ recipe_instructions +\" into a well formatted recipe and add in or replace to make more sense.\"}\n",
    "    ]\n",
    "\n",
    "\n",
    ")"
   ]
  },
  {
   "cell_type": "code",
   "execution_count": 34,
   "metadata": {},
   "outputs": [
    {
     "name": "stdout",
     "output_type": "stream",
     "text": [
      "Recipe: Eggplant Pepperoni Bake\n",
      "\n",
      "Ingredients:\n",
      "- Olive oil\n",
      "- Sea salt\n",
      "- 3 1/4- to 1/3-inch slices of eggplant, drained on a paper towel for 30 to 45 minutes\n",
      "- 1/3 cup tomato sauce\n",
      "- 1 cup grated cheese\n",
      "- About 12 slices of pepperoni\n",
      "\n",
      "Instructions:\n",
      "1. Preheat the oven to 350 degrees F.\n",
      "2. Pour enough olive oil into the bottom of a pie pan to lightly coat it, then sprinkle with sea salt.\n",
      "3. Place the pan in the preheated oven.\n",
      "4. After the pan is preheated, add the drained eggplant slices. Cook for 5 minutes.\n",
      "5. Remove the pan from the oven and carefully flip over the eggplant slices.\n",
      "6. Spoon tomato sauce onto each slice, then top with cheese and pepperoni.\n",
      "7. Return the pan to the oven and bake for another 5 minutes, or until the cheese is melted.\n",
      "8. Remove from the oven and serve hot.\n",
      "\n",
      "Enjoy this delicious Eggplant Pepperoni Bake hot out of the oven!\n"
     ]
    }
   ],
   "source": [
    "print(completion.choices[0].message.content)"
   ]
  },
  {
   "cell_type": "code",
   "execution_count": null,
   "metadata": {},
   "outputs": [],
   "source": []
  }
 ],
 "metadata": {
  "colab": {
   "provenance": []
  },
  "kernelspec": {
   "display_name": "Python 3 (ipykernel)",
   "language": "python",
   "name": "python3"
  },
  "language_info": {
   "codemirror_mode": {
    "name": "ipython",
    "version": 3
   },
   "file_extension": ".py",
   "mimetype": "text/x-python",
   "name": "python",
   "nbconvert_exporter": "python",
   "pygments_lexer": "ipython3",
   "version": "3.9.16"
  }
 },
 "nbformat": 4,
 "nbformat_minor": 1
}
