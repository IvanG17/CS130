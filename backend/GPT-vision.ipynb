{
 "cells": [
  {
   "cell_type": "code",
   "execution_count": 1,
   "id": "632dc2fb",
   "metadata": {},
   "outputs": [],
   "source": [
    "import os"
   ]
  },
  {
   "cell_type": "code",
   "execution_count": 2,
   "id": "095d4a79",
   "metadata": {},
   "outputs": [],
   "source": [
    "from dotenv import load_dotenv, find_dotenv"
   ]
  },
  {
   "cell_type": "code",
   "execution_count": 5,
   "id": "4afc9e12",
   "metadata": {},
   "outputs": [],
   "source": [
    "import base64"
   ]
  },
  {
   "cell_type": "code",
   "execution_count": 19,
   "id": "7bf02463",
   "metadata": {},
   "outputs": [],
   "source": [
    "import requests"
   ]
  },
  {
   "cell_type": "code",
   "execution_count": 3,
   "id": "159d970d",
   "metadata": {},
   "outputs": [
    {
     "data": {
      "text/plain": [
       "True"
      ]
     },
     "execution_count": 3,
     "metadata": {},
     "output_type": "execute_result"
    }
   ],
   "source": [
    "file_path = \"/Users/preethamvignesh/Desktop/Savor/\"\n",
    "load_dotenv(file_path + \".env\")"
   ]
  },
  {
   "cell_type": "code",
   "execution_count": 4,
   "id": "25cb17dd",
   "metadata": {},
   "outputs": [],
   "source": [
    "from openai import OpenAI"
   ]
  },
  {
   "cell_type": "code",
   "execution_count": 6,
   "id": "e8d64b34",
   "metadata": {},
   "outputs": [],
   "source": [
    "def image_encoder(path):\n",
    "    with open(path, \"rb\"):\n",
    "        with open(path, \"rb\") as file:\n",
    "            return base64.b64encode(file.read()).decode(\"utf-8\")"
   ]
  },
  {
   "cell_type": "code",
   "execution_count": 7,
   "id": "dacafeca",
   "metadata": {},
   "outputs": [],
   "source": [
    "local_img_path = \"/Users/preethamvignesh/Desktop/Savor/Pepperoni-Pizza-Recipe-Sip-Bite-Go.jpg\"\n",
    "base64_encoded_img = image_encoder(local_img_path)"
   ]
  },
  {
   "cell_type": "code",
   "execution_count": 8,
   "id": "9924c2df",
   "metadata": {},
   "outputs": [],
   "source": [
    "openai_api_key = os.getenv(\"OPENAI_API_KEY\")"
   ]
  },
  {
   "cell_type": "code",
   "execution_count": 31,
   "id": "0229b10e",
   "metadata": {},
   "outputs": [],
   "source": [
    "headers_for_model = {\"Content-Type\": \"application/json\",\n",
    "                    \"Authorization\":f\"Bearer {openai_api_key}\"}\n",
    "\n"
   ]
  },
  {
   "cell_type": "code",
   "execution_count": 32,
   "id": "1d12e8a7",
   "metadata": {},
   "outputs": [],
   "source": [
    "image_identifier = OpenAI()\n",
    "food_label = {\n",
    "    \"model\":\"gpt-4-vision-preview\",\n",
    "    \"messages\":[\n",
    "        {\n",
    "        \"role\":\"user\",\n",
    "              \"content\": [\n",
    "                  {\"type\": \"text\", \"text\": \"GIve me a food name of the following image, that's it without any punctuation at the end.\"},\n",
    "                  {\"type\": \"image_url\", \"image_url\": {\"url\":f\"data:image/jpeg;base64,{base64_encoded_img}\"}}\n",
    "              ]\n",
    "        }\n",
    "    ]\n",
    "}"
   ]
  },
  {
   "cell_type": "code",
   "execution_count": 33,
   "id": "328bf6fd",
   "metadata": {
    "scrolled": true
   },
   "outputs": [
    {
     "name": "stdout",
     "output_type": "stream",
     "text": [
      "{'id': 'chatcmpl-90xolXZmsuOaxut9qX1QiS6YMY7ST', 'object': 'chat.completion', 'created': 1710016967, 'model': 'gpt-4-1106-vision-preview', 'usage': {'prompt_tokens': 793, 'completion_tokens': 4, 'total_tokens': 797}, 'choices': [{'message': {'role': 'assistant', 'content': 'Pepperoni pizza'}, 'finish_reason': 'stop', 'index': 0}]}\n"
     ]
    }
   ],
   "source": [
    "final_answer = requests.post(\"https://api.openai.com/v1/chat/completions\", headers=headers_for_model, json=food_label)\n",
    "print(final_answer.json())"
   ]
  },
  {
   "cell_type": "code",
   "execution_count": 34,
   "id": "2cc01083",
   "metadata": {},
   "outputs": [
    {
     "name": "stdout",
     "output_type": "stream",
     "text": [
      "Pepperoni pizza\n"
     ]
    }
   ],
   "source": [
    "print(final_answer.json()['choices'][0]['message']['content'])"
   ]
  },
  {
   "cell_type": "code",
   "execution_count": null,
   "id": "25acac11",
   "metadata": {},
   "outputs": [],
   "source": []
  }
 ],
 "metadata": {
  "kernelspec": {
   "display_name": "Python 3 (ipykernel)",
   "language": "python",
   "name": "python3"
  },
  "language_info": {
   "codemirror_mode": {
    "name": "ipython",
    "version": 3
   },
   "file_extension": ".py",
   "mimetype": "text/x-python",
   "name": "python",
   "nbconvert_exporter": "python",
   "pygments_lexer": "ipython3",
   "version": "3.9.16"
  }
 },
 "nbformat": 4,
 "nbformat_minor": 5
}
